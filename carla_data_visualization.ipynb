{
 "cells": [
  {
   "cell_type": "markdown",
   "metadata": {},
   "source": [
    "# CARLA Autonomous Driving Test Results Visualization\n",
    "\n",
    "This notebook visualizes the performance data from CARLA autonomous driving tests across different model comparisons:\n",
    "- 10k vs 5k models\n",
    "- 20k vs 10k models  \n",
    "- 5k vs 10k models\n",
    "\n",
    "The data includes performance metrics for three model types: baseline, synthetic, and bdd100k across various rural driving scenarios."
   ]
  },
  {
   "cell_type": "code",
   "execution_count": 1,
   "metadata": {},
   "outputs": [],
   "source": [
    "import json\n",
    "import pandas as pd\n",
    "import numpy as np\n",
    "import matplotlib.pyplot as plt\n",
    "import seaborn as sns\n",
    "from pathlib import Path\n",
    "import warnings\n",
    "warnings.filterwarnings('ignore')\n",
    "\n",
    "# Set style for better visualizations\n",
    "plt.style.use('default')\n",
    "sns.set_palette(\"husl\")\n",
    "plt.rcParams['figure.figsize'] = (12, 8)\n",
    "plt.rcParams['font.size'] = 10"
   ]
  },
  {
   "cell_type": "code",
   "execution_count": 2,
   "metadata": {},
   "outputs": [
    {
     "name": "stdout",
     "output_type": "stream",
     "text": [
      "Loaded 64 test results\n",
      "Columns: ['test_id', 'scenario', 'model', 'weather', 'map', 'scenario_focus', 'complexity', 'expected_performance', 'actual_performance', 'distance_traveled', 'average_speed', 'max_speed', 'steering_smoothness', 'safety_score', 'collisions', 'lane_invasions', 'performance_score', 'test_duration', 'timestamp', 'model_description', 'comparison']\n",
      "\n",
      "Data shape: (64, 21)\n"
     ]
    }
   ],
   "source": [
    "# Load data from all JSON files\n",
    "def load_carla_data():\n",
    "    data_files = {\n",
    "        '10k_vs_5k': '10k vs 5k/carla_realistic_results.json',\n",
    "        '20k_vs_10k': '20k-vs-10k/carla_realistic_results-8-23.json',\n",
    "        '5k_vs_10k': '5k-vs-10k/carla_realistic_results.json'\n",
    "    }\n",
    "    \n",
    "    all_data = []\n",
    "    \n",
    "    for comparison, file_path in data_files.items():\n",
    "        try:\n",
    "            with open(file_path, 'r') as f:\n",
    "                data = json.load(f)\n",
    "            \n",
    "            # Extract test results\n",
    "            for test in data['test_results']:\n",
    "                test['comparison'] = comparison\n",
    "                all_data.append(test)\n",
    "                \n",
    "        except Exception as e:\n",
    "            print(f\"Error loading {file_path}: {e}\")\n",
    "    \n",
    "    return pd.DataFrame(all_data)\n",
    "\n",
    "# Load the data\n",
    "df = load_carla_data()\n",
    "print(f\"Loaded {len(df)} test results\")\n",
    "print(f\"Columns: {list(df.columns)}\")\n",
    "print(f\"\\nData shape: {df.shape}\")"
   ]
  }
 ],
 "metadata": {
  "kernelspec": {
   "display_name": "Python 3",
   "language": "python",
   "name": "python3"
  },
  "language_info": {
   "codemirror_mode": {
    "name": "ipython",
    "version": 3
   },
   "file_extension": ".py",
   "mimetype": "text/x-python",
   "name": "python",
   "nbconvert_exporter": "python",
   "pygments_lexer": "ipython3",
   "version": "3.12.11"
  }
 },
 "nbformat": 4,
 "nbformat_minor": 4
}
